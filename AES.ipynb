{
 "cells": [
  {
   "cell_type": "code",
   "execution_count": 24,
   "metadata": {},
   "outputs": [],
   "source": [
    "import os"
   ]
  },
  {
   "cell_type": "code",
   "execution_count": 25,
   "metadata": {},
   "outputs": [],
   "source": [
    "s_box = (\n",
    "    0x63, 0x7C, 0x77, 0x7B, 0xF2, 0x6B, 0x6F, 0xC5, 0x30, 0x01, 0x67, 0x2B, 0xFE, 0xD7, 0xAB, 0x76,\n",
    "    0xCA, 0x82, 0xC9, 0x7D, 0xFA, 0x59, 0x47, 0xF0, 0xAD, 0xD4, 0xA2, 0xAF, 0x9C, 0xA4, 0x72, 0xC0,\n",
    "    0xB7, 0xFD, 0x93, 0x26, 0x36, 0x3F, 0xF7, 0xCC, 0x34, 0xA5, 0xE5, 0xF1, 0x71, 0xD8, 0x31, 0x15,\n",
    "    0x04, 0xC7, 0x23, 0xC3, 0x18, 0x96, 0x05, 0x9A, 0x07, 0x12, 0x80, 0xE2, 0xEB, 0x27, 0xB2, 0x75,\n",
    "    0x09, 0x83, 0x2C, 0x1A, 0x1B, 0x6E, 0x5A, 0xA0, 0x52, 0x3B, 0xD6, 0xB3, 0x29, 0xE3, 0x2F, 0x84,\n",
    "    0x53, 0xD1, 0x00, 0xED, 0x20, 0xFC, 0xB1, 0x5B, 0x6A, 0xCB, 0xBE, 0x39, 0x4A, 0x4C, 0x58, 0xCF,\n",
    "    0xD0, 0xEF, 0xAA, 0xFB, 0x43, 0x4D, 0x33, 0x85, 0x45, 0xF9, 0x02, 0x7F, 0x50, 0x3C, 0x9F, 0xA8,\n",
    "    0x51, 0xA3, 0x40, 0x8F, 0x92, 0x9D, 0x38, 0xF5, 0xBC, 0xB6, 0xDA, 0x21, 0x10, 0xFF, 0xF3, 0xD2,\n",
    "    0xCD, 0x0C, 0x13, 0xEC, 0x5F, 0x97, 0x44, 0x17, 0xC4, 0xA7, 0x7E, 0x3D, 0x64, 0x5D, 0x19, 0x73,\n",
    "    0x60, 0x81, 0x4F, 0xDC, 0x22, 0x2A, 0x90, 0x88, 0x46, 0xEE, 0xB8, 0x14, 0xDE, 0x5E, 0x0B, 0xDB,\n",
    "    0xE0, 0x32, 0x3A, 0x0A, 0x49, 0x06, 0x24, 0x5C, 0xC2, 0xD3, 0xAC, 0x62, 0x91, 0x95, 0xE4, 0x79,\n",
    "    0xE7, 0xC8, 0x37, 0x6D, 0x8D, 0xD5, 0x4E, 0xA9, 0x6C, 0x56, 0xF4, 0xEA, 0x65, 0x7A, 0xAE, 0x08,\n",
    "    0xBA, 0x78, 0x25, 0x2E, 0x1C, 0xA6, 0xB4, 0xC6, 0xE8, 0xDD, 0x74, 0x1F, 0x4B, 0xBD, 0x8B, 0x8A,\n",
    "    0x70, 0x3E, 0xB5, 0x66, 0x48, 0x03, 0xF6, 0x0E, 0x61, 0x35, 0x57, 0xB9, 0x86, 0xC1, 0x1D, 0x9E,\n",
    "    0xE1, 0xF8, 0x98, 0x11, 0x69, 0xD9, 0x8E, 0x94, 0x9B, 0x1E, 0x87, 0xE9, 0xCE, 0x55, 0x28, 0xDF,\n",
    "    0x8C, 0xA1, 0x89, 0x0D, 0xBF, 0xE6, 0x42, 0x68, 0x41, 0x99, 0x2D, 0x0F, 0xB0, 0x54, 0xBB, 0x16,\n",
    ")"
   ]
  },
  {
   "cell_type": "code",
   "execution_count": 26,
   "metadata": {},
   "outputs": [],
   "source": [
    "inv_s_box = (\n",
    "    0x52, 0x09, 0x6A, 0xD5, 0x30, 0x36, 0xA5, 0x38, 0xBF, 0x40, 0xA3, 0x9E, 0x81, 0xF3, 0xD7, 0xFB,\n",
    "    0x7C, 0xE3, 0x39, 0x82, 0x9B, 0x2F, 0xFF, 0x87, 0x34, 0x8E, 0x43, 0x44, 0xC4, 0xDE, 0xE9, 0xCB,\n",
    "    0x54, 0x7B, 0x94, 0x32, 0xA6, 0xC2, 0x23, 0x3D, 0xEE, 0x4C, 0x95, 0x0B, 0x42, 0xFA, 0xC3, 0x4E,\n",
    "    0x08, 0x2E, 0xA1, 0x66, 0x28, 0xD9, 0x24, 0xB2, 0x76, 0x5B, 0xA2, 0x49, 0x6D, 0x8B, 0xD1, 0x25,\n",
    "    0x72, 0xF8, 0xF6, 0x64, 0x86, 0x68, 0x98, 0x16, 0xD4, 0xA4, 0x5C, 0xCC, 0x5D, 0x65, 0xB6, 0x92,\n",
    "    0x6C, 0x70, 0x48, 0x50, 0xFD, 0xED, 0xB9, 0xDA, 0x5E, 0x15, 0x46, 0x57, 0xA7, 0x8D, 0x9D, 0x84,\n",
    "    0x90, 0xD8, 0xAB, 0x00, 0x8C, 0xBC, 0xD3, 0x0A, 0xF7, 0xE4, 0x58, 0x05, 0xB8, 0xB3, 0x45, 0x06,\n",
    "    0xD0, 0x2C, 0x1E, 0x8F, 0xCA, 0x3F, 0x0F, 0x02, 0xC1, 0xAF, 0xBD, 0x03, 0x01, 0x13, 0x8A, 0x6B,\n",
    "    0x3A, 0x91, 0x11, 0x41, 0x4F, 0x67, 0xDC, 0xEA, 0x97, 0xF2, 0xCF, 0xCE, 0xF0, 0xB4, 0xE6, 0x73,\n",
    "    0x96, 0xAC, 0x74, 0x22, 0xE7, 0xAD, 0x35, 0x85, 0xE2, 0xF9, 0x37, 0xE8, 0x1C, 0x75, 0xDF, 0x6E,\n",
    "    0x47, 0xF1, 0x1A, 0x71, 0x1D, 0x29, 0xC5, 0x89, 0x6F, 0xB7, 0x62, 0x0E, 0xAA, 0x18, 0xBE, 0x1B,\n",
    "    0xFC, 0x56, 0x3E, 0x4B, 0xC6, 0xD2, 0x79, 0x20, 0x9A, 0xDB, 0xC0, 0xFE, 0x78, 0xCD, 0x5A, 0xF4,\n",
    "    0x1F, 0xDD, 0xA8, 0x33, 0x88, 0x07, 0xC7, 0x31, 0xB1, 0x12, 0x10, 0x59, 0x27, 0x80, 0xEC, 0x5F,\n",
    "    0x60, 0x51, 0x7F, 0xA9, 0x19, 0xB5, 0x4A, 0x0D, 0x2D, 0xE5, 0x7A, 0x9F, 0x93, 0xC9, 0x9C, 0xEF,\n",
    "    0xA0, 0xE0, 0x3B, 0x4D, 0xAE, 0x2A, 0xF5, 0xB0, 0xC8, 0xEB, 0xBB, 0x3C, 0x83, 0x53, 0x99, 0x61,\n",
    "    0x17, 0x2B, 0x04, 0x7E, 0xBA, 0x77, 0xD6, 0x26, 0xE1, 0x69, 0x14, 0x63, 0x55, 0x21, 0x0C, 0x7D,\n",
    ")\n"
   ]
  },
  {
   "cell_type": "code",
   "execution_count": 27,
   "metadata": {},
   "outputs": [],
   "source": [
    "def sub_bytes(s):\n",
    "    for i in range(4):\n",
    "        for j in range(4):\n",
    "            s[i][j] = s_box[s[i][j]]\n"
   ]
  },
  {
   "cell_type": "code",
   "execution_count": 28,
   "metadata": {},
   "outputs": [],
   "source": [
    "def inv_sub_bytes(s):\n",
    "    for i in range(4):\n",
    "        for j in range(4):\n",
    "            s[i][j] = inv_s_box[s[i][j]]\n"
   ]
  },
  {
   "cell_type": "code",
   "execution_count": 29,
   "metadata": {},
   "outputs": [],
   "source": [
    "def shift_rows(s):\n",
    "    s[0][1], s[1][1], s[2][1], s[3][1] = s[1][1], s[2][1], s[3][1], s[0][1]\n",
    "    s[0][2], s[1][2], s[2][2], s[3][2] = s[2][2], s[3][2], s[0][2], s[1][2]\n",
    "    s[0][3], s[1][3], s[2][3], s[3][3] = s[3][3], s[0][3], s[1][3], s[2][3]"
   ]
  },
  {
   "cell_type": "code",
   "execution_count": 30,
   "metadata": {},
   "outputs": [],
   "source": [
    "def inv_shift_rows(s):\n",
    "    s[0][1], s[1][1], s[2][1], s[3][1] = s[3][1], s[0][1], s[1][1], s[2][1]\n",
    "    s[0][2], s[1][2], s[2][2], s[3][2] = s[2][2], s[3][2], s[0][2], s[1][2]\n",
    "    s[0][3], s[1][3], s[2][3], s[3][3] = s[1][3], s[2][3], s[3][3], s[0][3]"
   ]
  },
  {
   "cell_type": "code",
   "execution_count": 31,
   "metadata": {},
   "outputs": [],
   "source": [
    "def add_round_key(s, k):\n",
    "    for i in range(4):\n",
    "        for j in range(4):\n",
    "            s[i][j] ^= k[i][j]\n"
   ]
  },
  {
   "cell_type": "code",
   "execution_count": 32,
   "metadata": {},
   "outputs": [],
   "source": [
    "# learned from https://web.archive.org/web/20100626212235/http://cs.ucsb.edu/~koc/cs178/projects/JT/aes.c\n",
    "xtime = lambda a: (((a << 1) ^ 0x1B) & 0xFF) if (a & 0x80) else (a << 1)"
   ]
  },
  {
   "cell_type": "code",
   "execution_count": 33,
   "metadata": {},
   "outputs": [],
   "source": [
    "def mix_single_column(a):\n",
    "    # see Sec 4.1.2 in The Design of Rijndael\n",
    "    t = a[0] ^ a[1] ^ a[2] ^ a[3]\n",
    "    u = a[0]\n",
    "    a[0] ^= t ^ xtime(a[0] ^ a[1])\n",
    "    a[1] ^= t ^ xtime(a[1] ^ a[2])\n",
    "    a[2] ^= t ^ xtime(a[2] ^ a[3])\n",
    "    a[3] ^= t ^ xtime(a[3] ^ u)"
   ]
  },
  {
   "cell_type": "code",
   "execution_count": 34,
   "metadata": {},
   "outputs": [],
   "source": [
    "def mix_columns(s):\n",
    "    for i in range(4):\n",
    "        mix_single_column(s[i])"
   ]
  },
  {
   "cell_type": "code",
   "execution_count": 35,
   "metadata": {},
   "outputs": [],
   "source": [
    "def inv_mix_columns(s):\n",
    "    # see Sec 4.1.3 in The Design of Rijndael\n",
    "    for i in range(4):\n",
    "        u = xtime(xtime(s[i][0] ^ s[i][2]))\n",
    "        v = xtime(xtime(s[i][1] ^ s[i][3]))\n",
    "        s[i][0] ^= u\n",
    "        s[i][1] ^= v\n",
    "        s[i][2] ^= u\n",
    "        s[i][3] ^= v\n",
    "\n",
    "    mix_columns(s)"
   ]
  },
  {
   "cell_type": "code",
   "execution_count": 36,
   "metadata": {},
   "outputs": [],
   "source": [
    "r_con = (\n",
    "    0x00, 0x01, 0x02, 0x04, 0x08, 0x10, 0x20, 0x40,\n",
    "    0x80, 0x1B, 0x36, 0x6C, 0xD8, 0xAB, 0x4D, 0x9A,\n",
    "    0x2F, 0x5E, 0xBC, 0x63, 0xC6, 0x97, 0x35, 0x6A,\n",
    "    0xD4, 0xB3, 0x7D, 0xFA, 0xEF, 0xC5, 0x91, 0x39,\n",
    ")"
   ]
  },
  {
   "cell_type": "code",
   "execution_count": 37,
   "metadata": {},
   "outputs": [],
   "source": [
    "def bytes2matrix(text):\n",
    "    \"\"\" Converts a 16-byte array into a 4x4 matrix.  \"\"\"\n",
    "    return [list(text[i:i+4]) for i in range(0, len(text), 4)]"
   ]
  },
  {
   "cell_type": "code",
   "execution_count": 38,
   "metadata": {},
   "outputs": [],
   "source": [
    "def matrix2bytes(matrix):\n",
    "    \"\"\" Converts a 4x4 matrix into a 16-byte array.  \"\"\"\n",
    "    return bytes(sum(matrix, []))"
   ]
  },
  {
   "cell_type": "code",
   "execution_count": 39,
   "metadata": {},
   "outputs": [],
   "source": [
    "def xor_bytes(a, b):\n",
    "    \"\"\" Returns a new byte array with the elements xor'ed. \"\"\"\n",
    "    return bytes(i^j for i, j in zip(a, b))"
   ]
  },
  {
   "cell_type": "code",
   "execution_count": 40,
   "metadata": {},
   "outputs": [],
   "source": [
    "def inc_bytes(a):\n",
    "    \"\"\" Returns a new byte array with the value increment by 1 \"\"\"\n",
    "    out = list(a)\n",
    "    for i in reversed(range(len(out))):\n",
    "        if out[i] == 0xFF:\n",
    "            out[i] = 0\n",
    "        else:\n",
    "            out[i] += 1\n",
    "            break\n",
    "    return bytes(out)"
   ]
  },
  {
   "cell_type": "code",
   "execution_count": 41,
   "metadata": {},
   "outputs": [],
   "source": [
    "def pad(plaintext):\n",
    "    \"\"\"\n",
    "    Pads the given plaintext with PKCS#7 padding to a multiple of 16 bytes.\n",
    "    Note that if the plaintext size is a multiple of 16,\n",
    "    a whole block will be added.\n",
    "    \"\"\"\n",
    "    padding_len = 16 - (len(plaintext) % 16)\n",
    "    padding = bytes([padding_len] * padding_len)\n",
    "    return plaintext + padding"
   ]
  },
  {
   "cell_type": "code",
   "execution_count": 42,
   "metadata": {},
   "outputs": [],
   "source": [
    "def unpad(plaintext):\n",
    "    \"\"\"\n",
    "    Removes a PKCS#7 padding, returning the unpadded text and ensuring the\n",
    "    padding was correct.\n",
    "    \"\"\"\n",
    "\n",
    "    padding_len = plaintext[-1]\n",
    "    assert padding_len > 0\n",
    "    message, padding = plaintext[:-padding_len], plaintext[-padding_len:]\n",
    "    assert all(p == padding_len for p in padding)\n",
    "    return message"
   ]
  },
  {
   "cell_type": "code",
   "execution_count": 43,
   "metadata": {},
   "outputs": [],
   "source": [
    "def split_blocks(message, block_size=16, require_padding=True):\n",
    "        assert len(message) % block_size == 0 or not require_padding\n",
    "        return [message[i:i+16] for i in range(0, len(message), block_size)]"
   ]
  },
  {
   "cell_type": "code",
   "execution_count": 64,
   "metadata": {},
   "outputs": [],
   "source": [
    "class AES:\n",
    "    \"\"\"\n",
    "    Class for AES-128 encryption with CBC mode and PKCS#7.\"\"\"\n",
    "\n",
    "    \n",
    "    rounds_by_key_size = {16: 10, 24: 12, 32: 14}\n",
    "    def __init__(self, master_key):\n",
    "        \"\"\"\n",
    "        Initializes the object with a given key.\n",
    "        \"\"\"\n",
    "        assert len(master_key) in AES.rounds_by_key_size\n",
    "        self.n_rounds = AES.rounds_by_key_size[len(master_key)]\n",
    "        self._key_matrices = self._expand_key(master_key)\n",
    "\n",
    "    def _expand_key(self, master_key):\n",
    "        \"\"\"\n",
    "        Expands and returns a list of key matrices for the given master_key.\n",
    "        \"\"\"\n",
    "        # Initialize round keys with raw key material.\n",
    "        key_columns = bytes2matrix(master_key)\n",
    "        iteration_size = len(master_key) // 4\n",
    "\n",
    "        i = 1\n",
    "        while len(key_columns) < (self.n_rounds + 1) * 4:\n",
    "            # Copy previous word.\n",
    "            word = list(key_columns[-1])\n",
    "\n",
    "            # Perform schedule_core once every \"row\".\n",
    "            if len(key_columns) % iteration_size == 0:\n",
    "                # Circular shift.\n",
    "                word.append(word.pop(0))\n",
    "                # Map to S-BOX.\n",
    "                word = [s_box[b] for b in word]\n",
    "                # XOR with first byte of R-CON, since the others bytes of R-CON are 0.\n",
    "                word[0] ^= r_con[i]\n",
    "                i += 1\n",
    "            elif len(master_key) == 32 and len(key_columns) % iteration_size == 4:\n",
    "                # Run word through S-box in the fourth iteration when using a\n",
    "                # 256-bit key.\n",
    "                word = [s_box[b] for b in word]\n",
    "\n",
    "            # XOR with equivalent word from previous iteration.\n",
    "            word = xor_bytes(word, key_columns[-iteration_size])\n",
    "            key_columns.append(word)\n",
    "\n",
    "        # Group key words in 4x4 byte matrices.\n",
    "        return [key_columns[4*i : 4*(i+1)] for i in range(len(key_columns) // 4)]\n",
    "\n",
    "    def encrypt_block(self, plaintext):\n",
    "        \"\"\"\n",
    "        Encrypts a single block of 16 byte long plaintext.\n",
    "        \"\"\"\n",
    "        # plaintext = plaintext.encode('utf-8')\n",
    "        assert len(plaintext) == 16\n",
    "\n",
    "        plain_state = bytes2matrix(plaintext)\n",
    "\n",
    "        add_round_key(plain_state, self._key_matrices[0])\n",
    "\n",
    "        for i in range(1, self.n_rounds):\n",
    "            sub_bytes(plain_state)\n",
    "            shift_rows(plain_state)\n",
    "            mix_columns(plain_state)\n",
    "            add_round_key(plain_state, self._key_matrices[i])\n",
    "\n",
    "        sub_bytes(plain_state)\n",
    "        shift_rows(plain_state)\n",
    "        add_round_key(plain_state, self._key_matrices[-1])\n",
    "\n",
    "        return matrix2bytes(plain_state)\n",
    "\n",
    "    def decrypt_block(self, ciphertext):\n",
    "        \"\"\"\n",
    "        Decrypts a single block of 16 byte long ciphertext.\n",
    "        \"\"\"\n",
    "        assert len(ciphertext) == 16\n",
    "\n",
    "        cipher_state = bytes2matrix(ciphertext)\n",
    "\n",
    "        add_round_key(cipher_state, self._key_matrices[-1])\n",
    "        inv_shift_rows(cipher_state)\n",
    "        inv_sub_bytes(cipher_state)\n",
    "\n",
    "        for i in range(self.n_rounds - 1, 0, -1):\n",
    "            add_round_key(cipher_state, self._key_matrices[i])\n",
    "            inv_mix_columns(cipher_state)\n",
    "            inv_shift_rows(cipher_state)\n",
    "            inv_sub_bytes(cipher_state)\n",
    "\n",
    "        add_round_key(cipher_state, self._key_matrices[0])\n",
    "\n",
    "        return matrix2bytes(cipher_state)\n",
    "\n",
    "    def encrypt_cbc(self, plaintext, iv=os.urandom(16)):\n",
    "        \"\"\"\n",
    "        Encrypts `plaintext` using CBC mode and PKCS#7 padding, with the given\n",
    "        initialization vector (iv).\n",
    "        \"\"\"\n",
    "        plaintext = plaintext.encode('utf-8')\n",
    "        \n",
    "        assert len(iv) == 16\n",
    "\n",
    "        plaintext = pad(plaintext)\n",
    "\n",
    "        blocks = []\n",
    "        previous = iv\n",
    "        for plaintext_block in split_blocks(plaintext):\n",
    "            # CBC mode encrypt: encrypt(plaintext_block XOR previous)\n",
    "            block = self.encrypt_block(xor_bytes(plaintext_block, previous))\n",
    "            blocks.append(block)\n",
    "            previous = block\n",
    "\n",
    "        return b''.join(blocks).hex(),iv.hex()\n",
    "\n",
    "    def decrypt_cbc(self, ciphertext, iv):\n",
    "        \"\"\"\n",
    "        Decrypts `ciphertext` using CBC mode and PKCS#7 padding, with the given\n",
    "        initialization vector (iv).\n",
    "        \"\"\"\n",
    "        ciphertext = bytes.fromhex(ciphertext)\n",
    "        iv = bytes.fromhex(iv)\n",
    "        assert len(iv) == 16\n",
    "\n",
    "        blocks = []\n",
    "        previous = iv\n",
    "        for ciphertext_block in split_blocks(ciphertext):\n",
    "            # CBC mode decrypt: previous XOR decrypt(ciphertext)\n",
    "            blocks.append(xor_bytes(previous, self.decrypt_block(ciphertext_block)))\n",
    "            previous = ciphertext_block\n",
    "\n",
    "        return unpad(b''.join(blocks)).decode('utf-8')"
   ]
  },
  {
   "cell_type": "code",
   "execution_count": 59,
   "metadata": {},
   "outputs": [
    {
     "name": "stdout",
     "output_type": "stream",
     "text": [
      "Requirement already satisfied: gradio in c:\\users\\kanji\\onedrive\\desktop\\crp\\aes_cryptography\\env\\lib\\site-packages (4.14.0)\n",
      "Requirement already satisfied: aiofiles<24.0,>=22.0 in c:\\users\\kanji\\onedrive\\desktop\\crp\\aes_cryptography\\env\\lib\\site-packages (from gradio) (23.2.1)\n",
      "Requirement already satisfied: altair<6.0,>=4.2.0 in c:\\users\\kanji\\onedrive\\desktop\\crp\\aes_cryptography\\env\\lib\\site-packages (from gradio) (5.2.0)\n",
      "Requirement already satisfied: fastapi in c:\\users\\kanji\\onedrive\\desktop\\crp\\aes_cryptography\\env\\lib\\site-packages (from gradio) (0.109.0)\n",
      "Requirement already satisfied: ffmpy in c:\\users\\kanji\\onedrive\\desktop\\crp\\aes_cryptography\\env\\lib\\site-packages (from gradio) (0.3.1)\n",
      "Requirement already satisfied: gradio-client==0.8.0 in c:\\users\\kanji\\onedrive\\desktop\\crp\\aes_cryptography\\env\\lib\\site-packages (from gradio) (0.8.0)\n",
      "Requirement already satisfied: httpx in c:\\users\\kanji\\onedrive\\desktop\\crp\\aes_cryptography\\env\\lib\\site-packages (from gradio) (0.26.0)\n",
      "Requirement already satisfied: huggingface-hub>=0.19.3 in c:\\users\\kanji\\onedrive\\desktop\\crp\\aes_cryptography\\env\\lib\\site-packages (from gradio) (0.20.2)\n",
      "Requirement already satisfied: importlib-resources<7.0,>=1.3 in c:\\users\\kanji\\onedrive\\desktop\\crp\\aes_cryptography\\env\\lib\\site-packages (from gradio) (6.1.1)\n",
      "Requirement already satisfied: jinja2<4.0 in c:\\users\\kanji\\onedrive\\desktop\\crp\\aes_cryptography\\env\\lib\\site-packages (from gradio) (3.1.3)\n",
      "Requirement already satisfied: markupsafe~=2.0 in c:\\users\\kanji\\onedrive\\desktop\\crp\\aes_cryptography\\env\\lib\\site-packages (from gradio) (2.1.3)\n",
      "Requirement already satisfied: matplotlib~=3.0 in c:\\users\\kanji\\onedrive\\desktop\\crp\\aes_cryptography\\env\\lib\\site-packages (from gradio) (3.8.2)\n",
      "Requirement already satisfied: numpy~=1.0 in c:\\users\\kanji\\onedrive\\desktop\\crp\\aes_cryptography\\env\\lib\\site-packages (from gradio) (1.26.3)\n",
      "Requirement already satisfied: orjson~=3.0 in c:\\users\\kanji\\onedrive\\desktop\\crp\\aes_cryptography\\env\\lib\\site-packages (from gradio) (3.9.10)\n",
      "Requirement already satisfied: packaging in c:\\users\\kanji\\onedrive\\desktop\\crp\\aes_cryptography\\env\\lib\\site-packages (from gradio) (23.2)\n",
      "Requirement already satisfied: pandas<3.0,>=1.0 in c:\\users\\kanji\\onedrive\\desktop\\crp\\aes_cryptography\\env\\lib\\site-packages (from gradio) (2.1.4)\n",
      "Requirement already satisfied: pillow<11.0,>=8.0 in c:\\users\\kanji\\onedrive\\desktop\\crp\\aes_cryptography\\env\\lib\\site-packages (from gradio) (10.2.0)\n",
      "Requirement already satisfied: pydantic>=2.0 in c:\\users\\kanji\\onedrive\\desktop\\crp\\aes_cryptography\\env\\lib\\site-packages (from gradio) (2.5.3)\n",
      "Requirement already satisfied: pydub in c:\\users\\kanji\\onedrive\\desktop\\crp\\aes_cryptography\\env\\lib\\site-packages (from gradio) (0.25.1)\n",
      "Requirement already satisfied: python-multipart in c:\\users\\kanji\\onedrive\\desktop\\crp\\aes_cryptography\\env\\lib\\site-packages (from gradio) (0.0.6)\n",
      "Requirement already satisfied: pyyaml<7.0,>=5.0 in c:\\users\\kanji\\onedrive\\desktop\\crp\\aes_cryptography\\env\\lib\\site-packages (from gradio) (6.0.1)\n",
      "Requirement already satisfied: semantic-version~=2.0 in c:\\users\\kanji\\onedrive\\desktop\\crp\\aes_cryptography\\env\\lib\\site-packages (from gradio) (2.10.0)\n",
      "Requirement already satisfied: tomlkit==0.12.0 in c:\\users\\kanji\\onedrive\\desktop\\crp\\aes_cryptography\\env\\lib\\site-packages (from gradio) (0.12.0)\n",
      "Requirement already satisfied: typer<1.0,>=0.9 in c:\\users\\kanji\\onedrive\\desktop\\crp\\aes_cryptography\\env\\lib\\site-packages (from typer[all]<1.0,>=0.9->gradio) (0.9.0)\n",
      "Requirement already satisfied: typing-extensions~=4.0 in c:\\users\\kanji\\onedrive\\desktop\\crp\\aes_cryptography\\env\\lib\\site-packages (from gradio) (4.9.0)\n",
      "Requirement already satisfied: uvicorn>=0.14.0 in c:\\users\\kanji\\onedrive\\desktop\\crp\\aes_cryptography\\env\\lib\\site-packages (from gradio) (0.25.0)\n",
      "Requirement already satisfied: fsspec in c:\\users\\kanji\\onedrive\\desktop\\crp\\aes_cryptography\\env\\lib\\site-packages (from gradio-client==0.8.0->gradio) (2023.12.2)\n",
      "Requirement already satisfied: websockets<12.0,>=10.0 in c:\\users\\kanji\\onedrive\\desktop\\crp\\aes_cryptography\\env\\lib\\site-packages (from gradio-client==0.8.0->gradio) (11.0.3)\n",
      "Requirement already satisfied: jsonschema>=3.0 in c:\\users\\kanji\\onedrive\\desktop\\crp\\aes_cryptography\\env\\lib\\site-packages (from altair<6.0,>=4.2.0->gradio) (4.20.0)\n",
      "Requirement already satisfied: toolz in c:\\users\\kanji\\onedrive\\desktop\\crp\\aes_cryptography\\env\\lib\\site-packages (from altair<6.0,>=4.2.0->gradio) (0.12.0)\n",
      "Requirement already satisfied: filelock in c:\\users\\kanji\\onedrive\\desktop\\crp\\aes_cryptography\\env\\lib\\site-packages (from huggingface-hub>=0.19.3->gradio) (3.13.1)\n",
      "Requirement already satisfied: requests in c:\\users\\kanji\\onedrive\\desktop\\crp\\aes_cryptography\\env\\lib\\site-packages (from huggingface-hub>=0.19.3->gradio) (2.31.0)\n",
      "Requirement already satisfied: tqdm>=4.42.1 in c:\\users\\kanji\\onedrive\\desktop\\crp\\aes_cryptography\\env\\lib\\site-packages (from huggingface-hub>=0.19.3->gradio) (4.66.1)\n",
      "Requirement already satisfied: contourpy>=1.0.1 in c:\\users\\kanji\\onedrive\\desktop\\crp\\aes_cryptography\\env\\lib\\site-packages (from matplotlib~=3.0->gradio) (1.2.0)\n",
      "Requirement already satisfied: cycler>=0.10 in c:\\users\\kanji\\onedrive\\desktop\\crp\\aes_cryptography\\env\\lib\\site-packages (from matplotlib~=3.0->gradio) (0.12.1)\n",
      "Requirement already satisfied: fonttools>=4.22.0 in c:\\users\\kanji\\onedrive\\desktop\\crp\\aes_cryptography\\env\\lib\\site-packages (from matplotlib~=3.0->gradio) (4.47.2)\n",
      "Requirement already satisfied: kiwisolver>=1.3.1 in c:\\users\\kanji\\onedrive\\desktop\\crp\\aes_cryptography\\env\\lib\\site-packages (from matplotlib~=3.0->gradio) (1.4.5)\n",
      "Requirement already satisfied: pyparsing>=2.3.1 in c:\\users\\kanji\\onedrive\\desktop\\crp\\aes_cryptography\\env\\lib\\site-packages (from matplotlib~=3.0->gradio) (3.1.1)\n",
      "Requirement already satisfied: python-dateutil>=2.7 in c:\\users\\kanji\\onedrive\\desktop\\crp\\aes_cryptography\\env\\lib\\site-packages (from matplotlib~=3.0->gradio) (2.8.2)\n",
      "Requirement already satisfied: pytz>=2020.1 in c:\\users\\kanji\\onedrive\\desktop\\crp\\aes_cryptography\\env\\lib\\site-packages (from pandas<3.0,>=1.0->gradio) (2023.3.post1)\n",
      "Requirement already satisfied: tzdata>=2022.1 in c:\\users\\kanji\\onedrive\\desktop\\crp\\aes_cryptography\\env\\lib\\site-packages (from pandas<3.0,>=1.0->gradio) (2023.4)\n",
      "Requirement already satisfied: annotated-types>=0.4.0 in c:\\users\\kanji\\onedrive\\desktop\\crp\\aes_cryptography\\env\\lib\\site-packages (from pydantic>=2.0->gradio) (0.6.0)\n",
      "Requirement already satisfied: pydantic-core==2.14.6 in c:\\users\\kanji\\onedrive\\desktop\\crp\\aes_cryptography\\env\\lib\\site-packages (from pydantic>=2.0->gradio) (2.14.6)\n",
      "Requirement already satisfied: click<9.0.0,>=7.1.1 in c:\\users\\kanji\\onedrive\\desktop\\crp\\aes_cryptography\\env\\lib\\site-packages (from typer<1.0,>=0.9->typer[all]<1.0,>=0.9->gradio) (8.1.7)\n",
      "Requirement already satisfied: colorama<0.5.0,>=0.4.3 in c:\\users\\kanji\\onedrive\\desktop\\crp\\aes_cryptography\\env\\lib\\site-packages (from typer[all]<1.0,>=0.9->gradio) (0.4.6)\n",
      "Requirement already satisfied: shellingham<2.0.0,>=1.3.0 in c:\\users\\kanji\\onedrive\\desktop\\crp\\aes_cryptography\\env\\lib\\site-packages (from typer[all]<1.0,>=0.9->gradio) (1.5.4)\n",
      "Requirement already satisfied: rich<14.0.0,>=10.11.0 in c:\\users\\kanji\\onedrive\\desktop\\crp\\aes_cryptography\\env\\lib\\site-packages (from typer[all]<1.0,>=0.9->gradio) (13.7.0)\n",
      "Requirement already satisfied: h11>=0.8 in c:\\users\\kanji\\onedrive\\desktop\\crp\\aes_cryptography\\env\\lib\\site-packages (from uvicorn>=0.14.0->gradio) (0.14.0)\n",
      "Requirement already satisfied: starlette<0.36.0,>=0.35.0 in c:\\users\\kanji\\onedrive\\desktop\\crp\\aes_cryptography\\env\\lib\\site-packages (from fastapi->gradio) (0.35.1)\n",
      "Requirement already satisfied: anyio in c:\\users\\kanji\\onedrive\\desktop\\crp\\aes_cryptography\\env\\lib\\site-packages (from httpx->gradio) (4.2.0)\n",
      "Requirement already satisfied: certifi in c:\\users\\kanji\\onedrive\\desktop\\crp\\aes_cryptography\\env\\lib\\site-packages (from httpx->gradio) (2023.11.17)\n",
      "Requirement already satisfied: httpcore==1.* in c:\\users\\kanji\\onedrive\\desktop\\crp\\aes_cryptography\\env\\lib\\site-packages (from httpx->gradio) (1.0.2)\n",
      "Requirement already satisfied: idna in c:\\users\\kanji\\onedrive\\desktop\\crp\\aes_cryptography\\env\\lib\\site-packages (from httpx->gradio) (3.6)\n",
      "Requirement already satisfied: sniffio in c:\\users\\kanji\\onedrive\\desktop\\crp\\aes_cryptography\\env\\lib\\site-packages (from httpx->gradio) (1.3.0)\n",
      "Requirement already satisfied: attrs>=22.2.0 in c:\\users\\kanji\\onedrive\\desktop\\crp\\aes_cryptography\\env\\lib\\site-packages (from jsonschema>=3.0->altair<6.0,>=4.2.0->gradio) (23.2.0)\n",
      "Requirement already satisfied: jsonschema-specifications>=2023.03.6 in c:\\users\\kanji\\onedrive\\desktop\\crp\\aes_cryptography\\env\\lib\\site-packages (from jsonschema>=3.0->altair<6.0,>=4.2.0->gradio) (2023.12.1)\n",
      "Requirement already satisfied: referencing>=0.28.4 in c:\\users\\kanji\\onedrive\\desktop\\crp\\aes_cryptography\\env\\lib\\site-packages (from jsonschema>=3.0->altair<6.0,>=4.2.0->gradio) (0.32.1)\n",
      "Requirement already satisfied: rpds-py>=0.7.1 in c:\\users\\kanji\\onedrive\\desktop\\crp\\aes_cryptography\\env\\lib\\site-packages (from jsonschema>=3.0->altair<6.0,>=4.2.0->gradio) (0.17.1)\n",
      "Requirement already satisfied: six>=1.5 in c:\\users\\kanji\\onedrive\\desktop\\crp\\aes_cryptography\\env\\lib\\site-packages (from python-dateutil>=2.7->matplotlib~=3.0->gradio) (1.16.0)\n",
      "Requirement already satisfied: markdown-it-py>=2.2.0 in c:\\users\\kanji\\onedrive\\desktop\\crp\\aes_cryptography\\env\\lib\\site-packages (from rich<14.0.0,>=10.11.0->typer[all]<1.0,>=0.9->gradio) (3.0.0)\n",
      "Requirement already satisfied: pygments<3.0.0,>=2.13.0 in c:\\users\\kanji\\onedrive\\desktop\\crp\\aes_cryptography\\env\\lib\\site-packages (from rich<14.0.0,>=10.11.0->typer[all]<1.0,>=0.9->gradio) (2.17.2)\n",
      "Requirement already satisfied: charset-normalizer<4,>=2 in c:\\users\\kanji\\onedrive\\desktop\\crp\\aes_cryptography\\env\\lib\\site-packages (from requests->huggingface-hub>=0.19.3->gradio) (3.3.2)\n",
      "Requirement already satisfied: urllib3<3,>=1.21.1 in c:\\users\\kanji\\onedrive\\desktop\\crp\\aes_cryptography\\env\\lib\\site-packages (from requests->huggingface-hub>=0.19.3->gradio) (2.1.0)\n",
      "Requirement already satisfied: mdurl~=0.1 in c:\\users\\kanji\\onedrive\\desktop\\crp\\aes_cryptography\\env\\lib\\site-packages (from markdown-it-py>=2.2.0->rich<14.0.0,>=10.11.0->typer[all]<1.0,>=0.9->gradio) (0.1.2)\n",
      "Note: you may need to restart the kernel to use updated packages.\n"
     ]
    }
   ],
   "source": [
    "%pip install gradio"
   ]
  },
  {
   "cell_type": "code",
   "execution_count": 22,
   "metadata": {},
   "outputs": [],
   "source": [
    "import os"
   ]
  },
  {
   "cell_type": "code",
   "execution_count": 63,
   "metadata": {},
   "outputs": [
    {
     "name": "stdout",
     "output_type": "stream",
     "text": [
      "Running on local URL:  http://127.0.0.1:7861\n",
      "\n",
      "Could not create share link. Please check your internet connection or our status page: https://status.gradio.app.\n"
     ]
    },
    {
     "data": {
      "text/html": [
       "<div><iframe src=\"http://127.0.0.1:7861/\" width=\"100%\" height=\"500\" allow=\"autoplay; camera; microphone; clipboard-read; clipboard-write;\" frameborder=\"0\" allowfullscreen></iframe></div>"
      ],
      "text/plain": [
       "<IPython.core.display.HTML object>"
      ]
     },
     "metadata": {},
     "output_type": "display_data"
    },
    {
     "name": "stdout",
     "output_type": "stream",
     "text": [
      "Keyboard interruption in main thread... closing server.\n"
     ]
    },
    {
     "data": {
      "text/plain": []
     },
     "execution_count": 63,
     "metadata": {},
     "output_type": "execute_result"
    }
   ],
   "source": [
    "import gradio as gr\n",
    "\n",
    "key = b'SecretKey1234567'\n",
    "# Generate a random IV\n",
    "iv = os.urandom(16)\n",
    "# print(\"iv: \",iv.hex())\n",
    "\n",
    "# Create an AES object\n",
    "aes = AES(key)\n",
    "\n",
    "# plaintext = input(\"Enter the plaintext: \").encode('utf-8')\n",
    "\n",
    "chatbot_input = [gr.components.Textbox(label=\"Enter Plaintext here\")]\n",
    "chatbot_output = [gr.components.Textbox(label=\"Encrypted Text in AES CBC\"),gr.components.Textbox(label = 'Initialization vector')]\n",
    "\n",
    "iface = gr.Interface(fn=aes.encrypt_cbc, inputs=chatbot_input, outputs=chatbot_output,title=\"Encryption Demonstration\").queue()\n",
    "iface.launch(debug=True, share = True)\n",
    "\n",
    "\n"
   ]
  },
  {
   "cell_type": "code",
   "execution_count": 65,
   "metadata": {},
   "outputs": [
    {
     "name": "stdout",
     "output_type": "stream",
     "text": [
      "Running on local URL:  http://127.0.0.1:7861\n",
      "\n",
      "Could not create share link. Please check your internet connection or our status page: https://status.gradio.app.\n"
     ]
    },
    {
     "data": {
      "text/html": [
       "<div><iframe src=\"http://127.0.0.1:7861/\" width=\"100%\" height=\"500\" allow=\"autoplay; camera; microphone; clipboard-read; clipboard-write;\" frameborder=\"0\" allowfullscreen></iframe></div>"
      ],
      "text/plain": [
       "<IPython.core.display.HTML object>"
      ]
     },
     "metadata": {},
     "output_type": "display_data"
    },
    {
     "name": "stdout",
     "output_type": "stream",
     "text": [
      "Keyboard interruption in main thread... closing server.\n"
     ]
    },
    {
     "data": {
      "text/plain": []
     },
     "execution_count": 65,
     "metadata": {},
     "output_type": "execute_result"
    }
   ],
   "source": [
    "import gradio as gr\n",
    "\n",
    "key = b'SecretKey1234567'\n",
    "# Generate a random IV\n",
    "# print(\"iv: \",iv.hex())\n",
    "\n",
    "# Create an AES object\n",
    "aes = AES(key)\n",
    "\n",
    "# plaintext = input(\"Enter the plaintext: \").encode('utf-8')\n",
    "\n",
    "chatbot_input = [gr.components.Textbox(label=\"Enter Cipher text here\"),gr.components.Textbox(label='Enter Initialization Vector')]\n",
    "chatbot_output = [gr.components.Textbox(label=\"Decrypted Text in AES CBC\")]\n",
    "iface = gr.Interface(fn=aes.decrypt_cbc, inputs=chatbot_input, outputs=chatbot_output,title=\"Decrypt Demonstration\").queue()\n",
    "iface.launch(debug=True, share = True)\n",
    "\n",
    "\n"
   ]
  },
  {
   "cell_type": "markdown",
   "metadata": {},
   "source": []
  },
  {
   "cell_type": "code",
   "execution_count": 22,
   "metadata": {},
   "outputs": [],
   "source": [
    "\n",
    "\n",
    "# Get ciphertext and IV from the user\n",
    "input_ciphertext = bytes.fromhex(input(\"Enter the ciphertext: \"))\n",
    "input_iv = bytes.fromhex(input(\"Enter the IV: \"))\n",
    "\n",
    "# Decrypt using CBC mode\n",
    "decrypted_text = aes.decrypt_cbc(input_ciphertext, input_iv)\n",
    "print(\"Decrypted Text:\", decrypted_text.decode('utf-8'))"
   ]
  },
  {
   "cell_type": "code",
   "execution_count": null,
   "metadata": {},
   "outputs": [],
   "source": [
    "# Get ciphertext and IV from the user\n",
    "# Get ciphertext"
   ]
  }
 ],
 "metadata": {
  "kernelspec": {
   "display_name": "Python 3",
   "language": "python",
   "name": "python3"
  },
  "language_info": {
   "codemirror_mode": {
    "name": "ipython",
    "version": 3
   },
   "file_extension": ".py",
   "mimetype": "text/x-python",
   "name": "python",
   "nbconvert_exporter": "python",
   "pygments_lexer": "ipython3",
   "version": "3.11.4"
  }
 },
 "nbformat": 4,
 "nbformat_minor": 2
}
